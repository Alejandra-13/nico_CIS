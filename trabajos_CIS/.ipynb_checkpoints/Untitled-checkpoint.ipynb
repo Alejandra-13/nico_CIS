{
 "cells": [
  {
   "cell_type": "code",
   "execution_count": 2,
   "metadata": {},
   "outputs": [
    {
     "name": "stdout",
     "output_type": "stream",
     "text": [
      "hola mundo\n"
     ]
    }
   ],
   "source": [
    "x=3\n",
    "x=3.3\n",
    "x=complex(3,5)\n",
    "x='a'\n",
    "x='hola mundo'\n",
    "print(x)"
   ]
  },
  {
   "cell_type": "code",
   "execution_count": 29,
   "metadata": {},
   "outputs": [
    {
     "name": "stdout",
     "output_type": "stream",
     "text": [
      "h o\n",
      "holA mundo\n",
      "hola mundo\n",
      "HOLA MUNDO\n",
      "Hola Mundo\n",
      "2\n",
      "lolA mundo\n",
      "['holA', 'mundo']\n",
      "['ho', 'lA mu', 'ndo']\n"
     ]
    }
   ],
   "source": [
    "x='holA mundo'\n",
    "print(x[0],x[-1])\n",
    "print(x)\n",
    "print(x.lower())\n",
    "print(x.upper())\n",
    "print(x.title())\n",
    "print(x.count('o'))\n",
    "print(x.replace('h','l'))\n",
    "print(x.split(' '))\n",
    "x='ho,lA mu,ndo'\n",
    "print(x.split(','))"
   ]
  },
  {
   "cell_type": "code",
   "execution_count": 55,
   "metadata": {},
   "outputs": [
    {
     "name": "stdout",
     "output_type": "stream",
     "text": [
      "[1, 7, 4, 8, 3, 6]\n",
      "[1, 7, 4, 8, 3, 6, 2]\n",
      "[1, 9, 7, 4, 8, 3, 6, 2]\n",
      "[1, 2, 3, 4, 6, 7, 8, 9]\n",
      "['a', 'b', 'c', 'r', 'z']\n",
      "[1, 2, 3, 4, 6, 7, 8, 9, 'a', 'b', 'c', 'r', 'z']\n"
     ]
    }
   ],
   "source": [
    "lista=[1,7,4,8,3,6]\n",
    "print(lista)\n",
    "lista.append(2)\n",
    "print(lista)\n",
    "lista.insert(1,9)\n",
    "print(lista)\n",
    "lista.sort()\n",
    "print(lista)\n",
    "lista2=['a','c','b','z','r']\n",
    "lista2.sort()\n",
    "print(lista2)\n",
    "lista.extend(lista2)\n",
    "print(lista)"
   ]
  },
  {
   "cell_type": "code",
   "execution_count": 108,
   "metadata": {},
   "outputs": [
    {
     "name": "stdout",
     "output_type": "stream",
     "text": [
      "(1, 7, 4, 8, 3, 6)\n",
      "(1, 7)\n",
      "(1, 7, 4, 8, 3, 6)\n",
      "(1, 4, 3)\n",
      "(6, 3, 8, 4, 7, 1)\n"
     ]
    }
   ],
   "source": [
    "tup=(1,7,4,8,3,6)\n",
    "print(tup)\n",
    "# tup.append(2)\n",
    "print(tup[0:2])\n",
    "print(tup[:])\n",
    "print(tup[::2])\n",
    "print(tup[::-1])"
   ]
  },
  {
   "cell_type": "code",
   "execution_count": 109,
   "metadata": {},
   "outputs": [
    {
     "name": "stdout",
     "output_type": "stream",
     "text": [
      "<class 'set'>\n",
      "<class 'dict'>\n",
      "5\n",
      "{'gato': 5, 'perro': 3, 'conejo': 2}\n",
      "5\n",
      "3\n",
      "{'gato': 5, 'conejo': 2}\n",
      "dict_values([5, 2])\n",
      "{'gato': 5, 'conejo': 2}\n",
      "{'gato': 5, 'conejo': 2, 'caballo': 10, 'lechuza': 13}\n",
      "{'gato': 5, 'conejo': 2, 'caballo': 10, 'lechuza': 13, 'perro': 3}\n"
     ]
    }
   ],
   "source": [
    "dicc={5,3,2}\n",
    "print(type(dicc))\n",
    "# dicc[0]\n",
    "dicc={0:5,1:3,2:2}\n",
    "print(type(dicc))\n",
    "print(dicc[0])\n",
    "\n",
    "dicc={'gato':5,'perro':3,'conejo':2}\n",
    "print(dicc)\n",
    "print(dicc['gato'])\n",
    "print(dicc.get('perro'))\n",
    "del dicc['perro']\n",
    "print(dicc)\n",
    "print(dicc.values())\n",
    "\n",
    "dicc2={'caballo':10,'lechuza':13}\n",
    "print(dicc)\n",
    "dicc.update(dicc2)\n",
    "print(dicc)\n",
    "dicc['perro']=3\n",
    "print(dicc)\n"
   ]
  },
  {
   "cell_type": "code",
   "execution_count": 114,
   "metadata": {},
   "outputs": [
    {
     "name": "stdout",
     "output_type": "stream",
     "text": [
      "El animal es: gato, tamaño de palabra es: 4\n",
      "El animal es: perro, tamaño de palabra es: 5\n",
      "El animal es: conejo, tamaño de palabra es: 6\n"
     ]
    }
   ],
   "source": [
    "animales = ['gato', 'perro', 'conejo']\n",
    "for animal in animales:\n",
    "    print (\"El animal es: {0}, tamaño de palabra es: {1}\".format(animal, len(animal)))"
   ]
  },
  {
   "cell_type": "code",
   "execution_count": 138,
   "metadata": {},
   "outputs": [
    {
     "name": "stdout",
     "output_type": "stream",
     "text": [
      "El calculo de IVA es: 19.0\n",
      "El precio total del producto es:119.0\n",
      "28\n",
      "\n",
      "\n"
     ]
    }
   ],
   "source": [
    "def iva(costo):\n",
    "    iva = 19\n",
    "    calculo = costo*iva/100\n",
    "    print (\"El calculo de IVA es: {}\".format(calculo))\n",
    "    print('El precio total del producto es:{}'.format(costo+calculo))\n",
    "    \n",
    "def suma(numero1,numero2):\n",
    "    '''función la cual suma dos números'''\n",
    "    print (numero1 + numero2)\n",
    "    print (\"\\n\")\n",
    "iva(100)\n",
    "suma(13,15)\n"
   ]
  }
 ],
 "metadata": {
  "kernelspec": {
   "display_name": "Python 3",
   "language": "python",
   "name": "python3"
  },
  "language_info": {
   "codemirror_mode": {
    "name": "ipython",
    "version": 3
   },
   "file_extension": ".py",
   "mimetype": "text/x-python",
   "name": "python",
   "nbconvert_exporter": "python",
   "pygments_lexer": "ipython3",
   "version": "3.7.6"
  }
 },
 "nbformat": 4,
 "nbformat_minor": 4
}
