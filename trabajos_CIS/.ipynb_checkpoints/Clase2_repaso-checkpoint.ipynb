{
 "cells": [
  {
   "cell_type": "markdown",
   "metadata": {},
   "source": [
    "* Abrir jupyter sin necesidad de anaconda\n",
    "* CMD para abrir anaconda\n",
    "    * Escritorio\n",
    "    * Ubicación real\n",
    "* Extension de archivos en python\n",
    "    * py\n",
    "    * ipynb"
   ]
  },
  {
   "cell_type": "markdown",
   "metadata": {},
   "source": [
    "* Librerias para machine learning <br>\n",
    "(en la carpeta documentación se peude encontrar algunos ejemplos de cada libreria)\n",
    "    * Matplotlib\n",
    "    * Numpy\n",
    "    * Pandas\n"
   ]
  },
  {
   "cell_type": "markdown",
   "metadata": {},
   "source": [
    "<img src=\"./clases_anteriores/imagenes_clase_4/proceso.png\">"
   ]
  },
  {
   "cell_type": "markdown",
   "metadata": {},
   "source": [
    "* Que es la inteligencia artificial? <br>\n",
    "https://www.youtube.com/watch?v=i1wGMQ3TjzA&list=PL-Ogd76BhmcDxef4liOGXGXLL-4h65bs4\n",
    "* regresion y clasificación\n"
   ]
  }
 ],
 "metadata": {
  "kernelspec": {
   "display_name": "Python 3",
   "language": "python",
   "name": "python3"
  },
  "language_info": {
   "codemirror_mode": {
    "name": "ipython",
    "version": 3
   },
   "file_extension": ".py",
   "mimetype": "text/x-python",
   "name": "python",
   "nbconvert_exporter": "python",
   "pygments_lexer": "ipython3",
   "version": "3.7.6"
  }
 },
 "nbformat": 4,
 "nbformat_minor": 4
}
