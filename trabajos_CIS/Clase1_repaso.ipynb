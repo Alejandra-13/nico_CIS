{
 "cells": [
  {
   "cell_type": "markdown",
   "metadata": {},
   "source": [
    "# Anaconda navigator\n",
    "* Jupyter\n",
    "* Spyder\n",
    "* CMD"
   ]
  },
  {
   "cell_type": "markdown",
   "metadata": {},
   "source": [
    "# CMD\n",
    "* comandos para utilizar windows sin interfaz grafica <br>\n",
    "https://www.abrirllave.com/cmd/comandos.php <br>\n",
    "* dir\n",
    "* cd \n",
    "* ./\n",
    "* ../"
   ]
  },
  {
   "cell_type": "markdown",
   "metadata": {},
   "source": [
    "# Python\n",
    "* Multiparadigma\n",
    "    * Estructurado\n",
    "    * Funcional\n",
    "    * Poo\n",
    "* Es legible!\n",
    "* sirve para hacer muchas cosas\n",
    "    * Ciencia de datos\n",
    "    * Hacking\n",
    "    * (Matlab)\n",
    "        * matrices\n",
    "        * solucionar ecuaciones lineales\n",
    "    * Diseño web\n",
    "        * Django\n",
    "    * interfaces graficas\n",
    "        * comunicacion serial\n",
    "        \n",
    "        https://www.youtube.com/watch?v=XCe4P4Og1fg\n",
    "        \n",
    "        https://www.youtube.com/watch?v=OvrZ_noc4Kg"
   ]
  },
  {
   "cell_type": "markdown",
   "metadata": {},
   "source": [
    "# como vamos a trabaja en pyton\n",
    "* Jupyter\n",
    "* Colab (jupyter online)\n",
    "* github\n",
    "    * crear repositorio\n",
    "    * clonar repositorio\n",
    "    * actulizar repositorio\n",
    "        * git add.\n",
    "        * git commmit-m \"esto es un mensaje para guardar el commit\"\n",
    "        * git push origin master\n",
    "        * git merge origin master\n",
    "    * https://www.youtube.com/watch?v=HiXLkL42tMU&t=2649s\n",
    "    * https://www.youtube.com/watch?v=Br6CIxKC1uo"
   ]
  },
  {
   "cell_type": "markdown",
   "metadata": {},
   "source": [
    "# Jupyter\n",
    "jupyter es una herramienta para realizar codigo python y explicarlo adecuadamente\n"
   ]
  },
  {
   "cell_type": "markdown",
   "metadata": {},
   "source": [
    "# Codigo en Pyton\n",
    "https://www.youtube.com/watch?v=chPhlsHoEPo&t=1s\n"
   ]
  },
  {
   "cell_type": "markdown",
   "metadata": {},
   "source": [
    "###  Tipos de datos\n",
    "* numeros (int,double,float,complex) \n",
    "* caracteres letras ('s' 'hola mundo')\n",
    "* arreglos\n",
    "    * list (serie de datos)\n",
    "    * tupples (lista inmutable)\n",
    "    * dicc (lista con diferente indice)"
   ]
  },
  {
   "cell_type": "code",
   "execution_count": 1,
   "metadata": {},
   "outputs": [
    {
     "name": "stdout",
     "output_type": "stream",
     "text": [
      "<class 'complex'>\n",
      "(3+0j)\n"
     ]
    }
   ],
   "source": [
    "x=complex(3)\n",
    "print(type(x))\n",
    "print(x)"
   ]
  },
  {
   "cell_type": "code",
   "execution_count": 22,
   "metadata": {},
   "outputs": [
    {
     "name": "stdout",
     "output_type": "stream",
     "text": [
      "hoLa mundo\n",
      "hola mundo\n",
      "o\n"
     ]
    }
   ],
   "source": [
    "y='hoLa mundo'\n",
    "print(y)\n",
    "print(y.lower())\n",
    "print(y[1])"
   ]
  },
  {
   "cell_type": "code",
   "execution_count": 21,
   "metadata": {},
   "outputs": [
    {
     "name": "stdout",
     "output_type": "stream",
     "text": [
      "[1, 3, 2, 'a']\n"
     ]
    },
    {
     "data": {
      "text/plain": [
       "[1, 3, 2, 'a', 'x', 'y']"
      ]
     },
     "execution_count": 21,
     "metadata": {},
     "output_type": "execute_result"
    }
   ],
   "source": [
    "lista=[1,3,2,'a']\n",
    "print(lista)\n",
    "lista[:]\n",
    "lista.append('x')\n",
    "lista.append('y')\n",
    "lista"
   ]
  },
  {
   "cell_type": "code",
   "execution_count": 20,
   "metadata": {},
   "outputs": [
    {
     "name": "stdout",
     "output_type": "stream",
     "text": [
      "(6, 3, 8, 4, 7, 1)\n"
     ]
    }
   ],
   "source": [
    "tup=(1,7,4,8,3,6)\n",
    "print(tup[::-1])"
   ]
  },
  {
   "cell_type": "code",
   "execution_count": 24,
   "metadata": {},
   "outputs": [
    {
     "name": "stdout",
     "output_type": "stream",
     "text": [
      "<class 'dict'>\n",
      "{'gato': 5, 'perro': 3, 'conejo': 2}\n",
      "5\n"
     ]
    }
   ],
   "source": [
    "dicc={5,3,2}\n",
    "type(dicc)\n",
    "# dicc[0]\n",
    "\n",
    "dicc={'gato':5,'perro':3,'conejo':2}\n",
    "print(type(dicc))\n",
    "print(dicc)\n",
    "print(dicc['gato'])"
   ]
  },
  {
   "cell_type": "markdown",
   "metadata": {},
   "source": [
    "### condicional\n",
    "https://pythones.net/operadores-basicos-en-python/"
   ]
  },
  {
   "cell_type": "code",
   "execution_count": 25,
   "metadata": {},
   "outputs": [
    {
     "name": "stdout",
     "output_type": "stream",
     "text": [
      "x no es el valor\n",
      "existe el gato\n"
     ]
    }
   ],
   "source": [
    "x=3\n",
    "if x==1:\n",
    "    print('x es el valor correcto')\n",
    "elif x==2:\n",
    "    print('x tambien es valido')\n",
    "else:\n",
    "    print('x no es el valor')\n",
    "    \n",
    "y='gato'\n",
    "x=dicc.get(y)\n",
    "if x:\n",
    "    print('existe el {}'.format(y))\n",
    "else:\n",
    "    print('no existe el animal en el diccionario')\n"
   ]
  },
  {
   "cell_type": "markdown",
   "metadata": {},
   "source": [
    "### ciclos\n"
   ]
  },
  {
   "cell_type": "code",
   "execution_count": 33,
   "metadata": {},
   "outputs": [
    {
     "name": "stdout",
     "output_type": "stream",
     "text": [
      "Actual valor de variable 9\n",
      "Actual valor de variable 8\n",
      "Actual valor de variable 7\n",
      "Actual valor de variable 6\n",
      "Actual valor de variable 5\n",
      "Actual valor de variable 4\n",
      "Actual valor de variable 3\n",
      "Actual valor de variable 2\n",
      "Actual valor de variable 1\n",
      "Actual valor de variable 0\n"
     ]
    }
   ],
   "source": [
    "variable = 10\n",
    "\n",
    "while variable > 0:\n",
    "    variable = variable -1\n",
    "#     if variable == 5:\n",
    "#         pass\n",
    "#         continue\n",
    "#         break\n",
    "    print ('Actual valor de variable', variable)\n",
    "\n",
    "   "
   ]
  },
  {
   "cell_type": "code",
   "execution_count": 35,
   "metadata": {},
   "outputs": [
    {
     "name": "stdout",
     "output_type": "stream",
     "text": [
      "El animal es: gato, tamaño de palabra es: 4\n",
      "El animal es: perro, tamaño de palabra es: 5\n",
      "El animal es: conejo, tamaño de palabra es: 6\n"
     ]
    }
   ],
   "source": [
    "animales = ['gato', 'perro', 'conejo']\n",
    "for animal in animales:\n",
    "    print (\"El animal es: {0}, tamaño de palabra es: {1}\".format(animal, len(animal)))"
   ]
  },
  {
   "cell_type": "markdown",
   "metadata": {},
   "source": [
    "### Funciones"
   ]
  },
  {
   "cell_type": "code",
   "execution_count": 36,
   "metadata": {},
   "outputs": [
    {
     "name": "stdout",
     "output_type": "stream",
     "text": [
      "El calculo de IVA es: 19.0\n",
      "El precio total del producto es:119.0\n",
      "28\n",
      "\n",
      "\n"
     ]
    }
   ],
   "source": [
    "def iva(costo):\n",
    "    iva = 19\n",
    "    calculo = costo*iva/100\n",
    "    print (\"El calculo de IVA es: {}\".format(calculo))\n",
    "    print('El precio total del producto es:{}'.format(costo+calculo))\n",
    "    \n",
    "def suma(numero1,numero2):\n",
    "    '''función la cual suma dos números'''\n",
    "    print (numero1 + numero2)\n",
    "    print (\"\\n\")\n",
    "iva(100)\n",
    "suma(13,15)"
   ]
  }
 ],
 "metadata": {
  "kernelspec": {
   "display_name": "Python 3",
   "language": "python",
   "name": "python3"
  },
  "language_info": {
   "codemirror_mode": {
    "name": "ipython",
    "version": 3
   },
   "file_extension": ".py",
   "mimetype": "text/x-python",
   "name": "python",
   "nbconvert_exporter": "python",
   "pygments_lexer": "ipython3",
   "version": "3.7.6"
  }
 },
 "nbformat": 4,
 "nbformat_minor": 4
}
