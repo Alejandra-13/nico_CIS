{
 "cells": [
  {
   "cell_type": "markdown",
   "metadata": {},
   "source": [
    "# Comandos Numpy\n",
    "numpy permite realiar operaciones con matrices logrando menor peso en sus variables y obteneindo mayor rapidez para realizar los calculos."
   ]
  },
  {
   "cell_type": "code",
   "execution_count": 1,
   "metadata": {},
   "outputs": [],
   "source": [
    "import numpy as np"
   ]
  },
  {
   "cell_type": "code",
   "execution_count": 24,
   "metadata": {
    "scrolled": true
   },
   "outputs": [
    {
     "name": "stdout",
     "output_type": "stream",
     "text": [
      "matriz en 1D: \n",
      "[1 1]\n",
      "matriz en 2D: \n",
      "[[1 1]\n",
      " [2 2]]\n",
      "matriz en 3D: \n",
      "[[[1 1]\n",
      "  [2 2]]\n",
      "\n",
      " [[1 1]\n",
      "  [2 2]]]\n"
     ]
    }
   ],
   "source": [
    "#crear una matriz 1D\n",
    "m1=np.array([1,1])\n",
    "#crear una matriz 2D\n",
    "m2=np.array([[1,1],[2,2]])\n",
    "#crear una matriz 3D\n",
    "m3=np.array([[[1,1],[2,2]],[[1,1],[2,2]]])\n",
    "print('matriz en 1D: \\n{}'.format(m1))\n",
    "print('matriz en 2D: \\n{}'.format(m2))\n",
    "print('matriz en 3D: \\n{}'.format(m3))"
   ]
  },
  {
   "cell_type": "code",
   "execution_count": 34,
   "metadata": {},
   "outputs": [
    {
     "name": "stdout",
     "output_type": "stream",
     "text": [
      "<class 'numpy.ndarray'>\n",
      "int32\n"
     ]
    }
   ],
   "source": [
    "#las matrices en numpy tiene un tipo especial en pyton \n",
    "print(type(m2))\n",
    "# para saber el tipo de dato interno, se utiliza el metodo .dtype\n",
    "print(m2.dtype)"
   ]
  },
  {
   "cell_type": "code",
   "execution_count": 113,
   "metadata": {},
   "outputs": [
    {
     "name": "stdout",
     "output_type": "stream",
     "text": [
      "matriz de unos: \n",
      "[[1 1]\n",
      " [1 1]]\n",
      "matriz de ceros: \n",
      "[[0 0]\n",
      " [0 0]]\n",
      "matriz de numeros aleatorios: \n",
      "[[0.05174383 0.06680076]\n",
      " [0.46331671 0.84815922]]\n",
      "matriz de de x valor: \n",
      "[[8 8]\n",
      " [8 8]]\n",
      "matriz identidad: \n",
      "[[1 0 0 0 0]\n",
      " [0 1 0 0 0]\n",
      " [0 0 1 0 0]\n",
      " [0 0 0 1 0]\n",
      " [0 0 0 0 1]]\n"
     ]
    }
   ],
   "source": [
    "#crear matriz de unos\n",
    "ones=np.ones([2,2], dtype=int)\n",
    "print('matriz de unos: \\n{}'.format(ones))\n",
    "#crear matriz de ceros\n",
    "zero=np.zeros([2,2], dtype=int)\n",
    "print('matriz de ceros: \\n{}'.format(zero))\n",
    "#crear matriz aleatoria\n",
    "rand=np.random.random([2,2])\n",
    "print('matriz de numeros aleatorios: \\n{}'.format(rand))\n",
    "#matriz con un valor pera todos\n",
    "fll=np.full([2,2],8)\n",
    "print('matriz de de x valor: \\n{}'.format(fll))\n",
    "#matriz identidad\n",
    "eye=np.eye(5,dtype=int)\n",
    "print('matriz identidad: \\n{}'.format(eye))"
   ]
  },
  {
   "cell_type": "code",
   "execution_count": 114,
   "metadata": {},
   "outputs": [
    {
     "data": {
      "text/plain": [
       "array([0. , 0.2, 0.4, 0.6, 0.8, 1. , 1.2, 1.4, 1.6, 1.8, 2. ])"
      ]
     },
     "execution_count": 114,
     "metadata": {},
     "output_type": "execute_result"
    }
   ],
   "source": [
    "#vectores espaciados\n",
    "np.linspace(0,2,11)#crea un vector con 11 puntos desde 0 hasta 2\n",
    "np.arange(0,2.2,.2)#crea un vector desde 0 con incrementos de 0.2 hasta ser igual a 2.2 (no inluye el ultimo valor)"
   ]
  },
  {
   "cell_type": "code",
   "execution_count": 133,
   "metadata": {},
   "outputs": [
    {
     "name": "stdout",
     "output_type": "stream",
     "text": [
      "[[1 2 3]\n",
      " [1 2 3]]\n",
      "cuantas dimensiones tiene la matriz: 2\n",
      "cual es el tipo de variables en la matriz: int32\n",
      "cualtos valores tiene la matriz: 6\n",
      "cual es la dimension de la matriz: (2, 3)\n"
     ]
    }
   ],
   "source": [
    "#metodos para inspeccionar matrices\n",
    "matriz=np.array([[1,2,3],[1,2,3]])\n",
    "print(matriz)\n",
    "print('cuantas dimensiones tiene la matriz: {}'.format(matriz.ndim))\n",
    "print('cual es el tipo de variables en la matriz: {}'.format(matriz.dtype))\n",
    "print('cualtos valores tiene la matriz: {}'.format(matriz.size))\n",
    "print('cual es la dimension de la matriz: {}'.format(matriz.shape))"
   ]
  },
  {
   "cell_type": "code",
   "execution_count": 158,
   "metadata": {},
   "outputs": [
    {
     "name": "stdout",
     "output_type": "stream",
     "text": [
      "[[1 2 3]\n",
      " [1 2 3]]\n",
      "tamaño de la matriz: 6\n",
      "matriz cambiada a (1,6): \n",
      " [[1 2 3 1 2 3]]\n",
      "Matriz cambiada a (3,2): \n",
      " [[1 2]\n",
      " [3 1]\n",
      " [2 3]]\n"
     ]
    }
   ],
   "source": [
    "#cambiar forma de la matriz\n",
    "matriz=np.array([[1,2,3],[1,2,3]])\n",
    "print(matriz)\n",
    "print('tamaño de la matriz: {}'.format(matriz.size))\n",
    "#solo se puede dimensionar una matriz siendo porporcional a su tamaño, para un tamaño de 6 se peude\n",
    "#(1,6)(2,3)(3,2)\n",
    "print('matriz cambiada a (1,6): \\n {}'.format(matriz.reshape(1,6)))\n",
    "print('Matriz cambiada a (3,2): \\n {}'.format(matriz.reshape(3,2)))"
   ]
  },
  {
   "cell_type": "code",
   "execution_count": 173,
   "metadata": {},
   "outputs": [
    {
     "name": "stdout",
     "output_type": "stream",
     "text": [
      "matriz para prueba \n",
      "[[1 2 3]\n",
      " [1 2 3]]\n",
      "ubicacion puntual en la matriz 3\n",
      "obtener toda una columna [2 2]\n",
      "obetener toda una fila [1 2 3]\n"
     ]
    }
   ],
   "source": [
    "#obtener un valor especifico de una matriz\n",
    "matriz=np.array([[1,2,3],[1,2,3]])\n",
    "print('matriz para prueba \\n{}'.format(matriz))\n",
    "print('ubicacion puntual en la matriz {}'.format(matriz[1,2]))\n",
    "print('obtener toda una columna {}'.format(matriz[:,1]))\n",
    "print('obetener toda una fila {}'.format(matriz[1,:]))"
   ]
  },
  {
   "cell_type": "code",
   "execution_count": 190,
   "metadata": {},
   "outputs": [
    {
     "name": "stdout",
     "output_type": "stream",
     "text": [
      "[[ 7 16  3]\n",
      " [ 4  8  1]]\n",
      "valor maximo en la matriz 16\n",
      "valor minimo en la matriz 1\n",
      "suma de todos los valores en una matriz 39\n",
      "deasviacion estandar de una matriz 4.856267428111155\n"
     ]
    },
    {
     "data": {
      "text/plain": [
       "4.856267428111155"
      ]
     },
     "execution_count": 190,
     "metadata": {},
     "output_type": "execute_result"
    }
   ],
   "source": [
    "#obtencion de valores estadisticos\n",
    "matriz=np.array([[7,16,3],[4,8,1]])\n",
    "print(matriz)\n",
    "print('valor maximo en la matriz {}'.format(matriz.max()))\n",
    "print('valor minimo en la matriz {}'.format(matriz.min()))\n",
    "print('suma de todos los valores en una matriz {}'.format(matriz.sum()))\n",
    "print('deasviacion estandar de una matriz {}'.format(matriz.std()))"
   ]
  },
  {
   "cell_type": "code",
   "execution_count": 202,
   "metadata": {},
   "outputs": [
    {
     "name": "stdout",
     "output_type": "stream",
     "text": [
      "las matrices para las operaiones serán : \n",
      " m1:\n",
      "[[ 7 16  3]\n",
      " [ 4  8  1]] \n",
      " m2:\n",
      "[[1 2 3]\n",
      " [4 5 6]]\n",
      "m1 + m2 = \n",
      " [[ 8 18  6]\n",
      " [ 8 13  7]]\n",
      "m1 * m2 = \n",
      " [[ 8 18  6]\n",
      " [ 8 13  7]]\n",
      "Raiz cuadrada de todos los elementos de una matriz = \n",
      "[[2.64575131 4.         1.73205081]\n",
      " [2.         2.82842712 1.        ]]\n",
      "producto punto de una matriz = \n",
      " [[70 96]\n",
      " [33 46]]\n"
     ]
    }
   ],
   "source": [
    "#operaiones con matrices\n",
    "matriz_1=np.array([[7,16,3],[4,8,1]])\n",
    "matriz_2=np.array([[1,2,3],[4,5,6]])\n",
    "print('las matrices para las operaiones serán : \\n m1:\\n{} \\n m2:\\n{}'.format(matriz_1,matriz_2))\n",
    "suma=matriz_1+matriz_2\n",
    "multi=matriz_1+matriz_2\n",
    "print('m1 + m2 = \\n {}'.format(suma))\n",
    "print('m1 * m2 = \\n {}'.format(multi))\n",
    "#estas operaiones se hacen en linea, apra haer operaciones matriciales como la multiplicacion, se utilizan funiones especificas de numpy\n",
    "print('Raiz cuadrada de todos los elementos de una matriz = \\n{}'.format(np.sqrt(matriz_1)))\n",
    "matriz_2=matriz_2.reshape(3,2)#organizamos la matriz 2 para cambair su tamaño\n",
    "print('producto punto de una matriz = \\n {}'.format(np.dot(matriz_1,matriz_2)))"
   ]
  }
 ],
 "metadata": {
  "kernelspec": {
   "display_name": "Python 3",
   "language": "python",
   "name": "python3"
  },
  "language_info": {
   "codemirror_mode": {
    "name": "ipython",
    "version": 3
   },
   "file_extension": ".py",
   "mimetype": "text/x-python",
   "name": "python",
   "nbconvert_exporter": "python",
   "pygments_lexer": "ipython3",
   "version": "3.7.6"
  }
 },
 "nbformat": 4,
 "nbformat_minor": 4
}
